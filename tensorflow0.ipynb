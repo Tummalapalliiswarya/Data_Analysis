{
  "nbformat": 4,
  "nbformat_minor": 0,
  "metadata": {
    "colab": {
      "provenance": []
    },
    "kernelspec": {
      "name": "python3",
      "display_name": "Python 3"
    },
    "language_info": {
      "name": "python"
    }
  },
  "cells": [
    {
      "cell_type": "code",
      "execution_count": null,
      "metadata": {
        "colab": {
          "base_uri": "https://localhost:8080/"
        },
        "id": "ghel9hszEt2m",
        "outputId": "265732f1-6599-48aa-f514-6f9c58b25097"
      },
      "outputs": [
        {
          "output_type": "stream",
          "name": "stdout",
          "text": [
            "tf.Tensor(b'hello world', shape=(), dtype=string)\n",
            "b'hello world'\n"
          ]
        }
      ],
      "source": [
        "import tensorflow as tf\n",
        "#Define a constant\n",
        "a=tf.constant('hello world')\n",
        "print(a)\n",
        "print(a.numpy())"
      ]
    },
    {
      "cell_type": "code",
      "source": [
        "#Scalar constants\n",
        "a=tf.constant(42)\n",
        "b=tf.constant(3.14)\n",
        "c=tf.constant(\"Hello,Tensorflow!\")\n",
        "print(a)\n",
        "print(a.numpy())\n"
      ],
      "metadata": {
        "colab": {
          "base_uri": "https://localhost:8080/"
        },
        "id": "wLLeqQoIGiBI",
        "outputId": "03dd7baa-10ee-417b-bc88-1a55622843f7"
      },
      "execution_count": null,
      "outputs": [
        {
          "output_type": "stream",
          "name": "stdout",
          "text": [
            "tf.Tensor(42, shape=(), dtype=int32)\n",
            "42\n"
          ]
        }
      ]
    },
    {
      "cell_type": "code",
      "source": [
        "#Vector constant\n",
        "a=tf.constant([1,2,3])\n",
        "b=tf.constant([1.0,2.0,3.0])\n",
        "print(a)\n",
        "print(a.numpy())\n",
        "print(b)\n",
        "print(b.numpy())"
      ],
      "metadata": {
        "colab": {
          "base_uri": "https://localhost:8080/"
        },
        "id": "C5tMW_2-G4zF",
        "outputId": "8f50b7d3-c815-496b-d60f-f54aef123b94"
      },
      "execution_count": null,
      "outputs": [
        {
          "output_type": "stream",
          "name": "stdout",
          "text": [
            "tf.Tensor([1 2 3], shape=(3,), dtype=int32)\n",
            "[1 2 3]\n",
            "tf.Tensor([1. 2. 3.], shape=(3,), dtype=float32)\n",
            "[1. 2. 3.]\n"
          ]
        }
      ]
    },
    {
      "cell_type": "code",
      "source": [
        "#Matrix constant\n",
        "a=tf.constant([[1,2],[3,4]])\n",
        "b=tf.constant([[1.0,2.0],[3.0,4.0]])\n",
        "print(a)\n",
        "print(a.numpy())"
      ],
      "metadata": {
        "colab": {
          "base_uri": "https://localhost:8080/"
        },
        "id": "HClNJgL7HQI5",
        "outputId": "adbea3f4-d3a4-4353-f60d-301a549c176d"
      },
      "execution_count": null,
      "outputs": [
        {
          "output_type": "stream",
          "name": "stdout",
          "text": [
            "tf.Tensor(\n",
            "[[1 2]\n",
            " [3 4]], shape=(2, 2), dtype=int32)\n",
            "[[1 2]\n",
            " [3 4]]\n"
          ]
        }
      ]
    },
    {
      "cell_type": "code",
      "source": [
        "#Higher Dimensional Tensor constant\n",
        "a=tf.constant([[[1,2,0],[3,4,0]],[[5,6,0],[7,8,0]]])\n",
        "print(a)\n",
        "print(a.numpy())"
      ],
      "metadata": {
        "colab": {
          "base_uri": "https://localhost:8080/"
        },
        "id": "WtarnhTpHk8S",
        "outputId": "60d15348-eee4-439a-cf49-fcd1575693a5"
      },
      "execution_count": null,
      "outputs": [
        {
          "output_type": "stream",
          "name": "stdout",
          "text": [
            "tf.Tensor(\n",
            "[[[1 2 0]\n",
            "  [3 4 0]]\n",
            "\n",
            " [[5 6 0]\n",
            "  [7 8 0]]], shape=(2, 2, 3), dtype=int32)\n",
            "[[[1 2 0]\n",
            "  [3 4 0]]\n",
            "\n",
            " [[5 6 0]\n",
            "  [7 8 0]]]\n"
          ]
        }
      ]
    },
    {
      "cell_type": "code",
      "source": [
        "#Boolean constant\n",
        "a=tf.constant('true')\n",
        "print(a)\n",
        "print(a.numpy())"
      ],
      "metadata": {
        "colab": {
          "base_uri": "https://localhost:8080/"
        },
        "id": "eW-NJc7tIgaV",
        "outputId": "04a94f08-e0ce-48de-fa02-f6ec16117757"
      },
      "execution_count": null,
      "outputs": [
        {
          "output_type": "stream",
          "name": "stdout",
          "text": [
            "tf.Tensor(b'true', shape=(), dtype=string)\n",
            "b'true'\n"
          ]
        }
      ]
    },
    {
      "cell_type": "code",
      "source": [
        "#Special constants\n",
        "a=tf.zeros(shape=[2,2])\n",
        "b=tf.ones(shape=[3,3])\n",
        "print(a)\n",
        "print(b)\n",
        "print(a.numpy())\n",
        "print(b.numpy())"
      ],
      "metadata": {
        "colab": {
          "base_uri": "https://localhost:8080/"
        },
        "id": "u8TUXC-wIt4h",
        "outputId": "e2917405-686b-40e2-b1e1-9d2fd131aa39"
      },
      "execution_count": null,
      "outputs": [
        {
          "output_type": "stream",
          "name": "stdout",
          "text": [
            "tf.Tensor(\n",
            "[[0. 0.]\n",
            " [0. 0.]], shape=(2, 2), dtype=float32)\n",
            "tf.Tensor(\n",
            "[[1. 1. 1.]\n",
            " [1. 1. 1.]\n",
            " [1. 1. 1.]], shape=(3, 3), dtype=float32)\n",
            "[[0. 0.]\n",
            " [0. 0.]]\n",
            "[[1. 1. 1.]\n",
            " [1. 1. 1.]\n",
            " [1. 1. 1.]]\n"
          ]
        }
      ]
    },
    {
      "cell_type": "code",
      "source": [
        "import tensorflow as tf\n",
        "tf.config.run_functions_eagerly(True)\n",
        "a=tf.constant([[2,3],[1,2]])\n",
        "b=tf.constant([[2,2],[2,2]])\n",
        "c=tf.multiply(a,b)\n",
        "result=a*b\n",
        "print(result)\n",
        "print(result.numpy())\n"
      ],
      "metadata": {
        "colab": {
          "base_uri": "https://localhost:8080/"
        },
        "id": "Q7zPrF-bJOmQ",
        "outputId": "78f9c8d2-c5c5-4c49-f6f1-ac4e5c9b9441"
      },
      "execution_count": null,
      "outputs": [
        {
          "output_type": "stream",
          "name": "stdout",
          "text": [
            "tf.Tensor(\n",
            "[[4 6]\n",
            " [2 4]], shape=(2, 2), dtype=int32)\n",
            "[[4 6]\n",
            " [2 4]]\n"
          ]
        }
      ]
    },
    {
      "cell_type": "code",
      "source": [
        "print(c)\n",
        "print(c.numpy())"
      ],
      "metadata": {
        "colab": {
          "base_uri": "https://localhost:8080/"
        },
        "id": "ssN-Ya5iLRwI",
        "outputId": "413ddfd7-fb50-4d27-cc13-4c06ad9904f3"
      },
      "execution_count": null,
      "outputs": [
        {
          "output_type": "stream",
          "name": "stdout",
          "text": [
            "tf.Tensor(\n",
            "[[4 6]\n",
            " [2 4]], shape=(2, 2), dtype=int32)\n",
            "[[4 6]\n",
            " [2 4]]\n"
          ]
        }
      ]
    },
    {
      "cell_type": "code",
      "source": [
        "c=tf.matmul(a,b)\n",
        "print(c)\n",
        "print(c.numpy())"
      ],
      "metadata": {
        "colab": {
          "base_uri": "https://localhost:8080/"
        },
        "id": "8Yh2JtUxLYA-",
        "outputId": "501e6308-e1c6-4086-eaaf-9da05ba62d4c"
      },
      "execution_count": null,
      "outputs": [
        {
          "output_type": "stream",
          "name": "stdout",
          "text": [
            "tf.Tensor(\n",
            "[[10 10]\n",
            " [ 6  6]], shape=(2, 2), dtype=int32)\n",
            "[[10 10]\n",
            " [ 6  6]]\n"
          ]
        }
      ]
    },
    {
      "cell_type": "code",
      "source": [
        "c=a@b\n",
        "print(c)\n",
        "print(c.numpy())"
      ],
      "metadata": {
        "colab": {
          "base_uri": "https://localhost:8080/"
        },
        "id": "SctXFH56LdA0",
        "outputId": "ed114e7d-4cbc-4eb5-bf00-728187a1c1d5"
      },
      "execution_count": null,
      "outputs": [
        {
          "output_type": "stream",
          "name": "stdout",
          "text": [
            "tf.Tensor(\n",
            "[[10 10]\n",
            " [ 6  6]], shape=(2, 2), dtype=int32)\n",
            "[[10 10]\n",
            " [ 6  6]]\n"
          ]
        }
      ]
    },
    {
      "cell_type": "code",
      "source": [
        "a=tf.constant([[1,2,3],[3,4,5]])\n",
        "a.get_shape()"
      ],
      "metadata": {
        "colab": {
          "base_uri": "https://localhost:8080/"
        },
        "id": "4ohAPp1oLkCL",
        "outputId": "7df029fb-7e62-4ad8-b941-fcdde28db7b5"
      },
      "execution_count": null,
      "outputs": [
        {
          "output_type": "execute_result",
          "data": {
            "text/plain": [
              "TensorShape([2, 3])"
            ]
          },
          "metadata": {},
          "execution_count": 33
        }
      ]
    },
    {
      "cell_type": "code",
      "source": [
        "a=tf.constant(1.25)\n",
        "b=tf.cast(a,dtype=tf.int32)\n",
        "print(a)\n",
        "print(a.numpy())\n",
        "print(b)\n",
        "print(b.numpy())\n"
      ],
      "metadata": {
        "colab": {
          "base_uri": "https://localhost:8080/"
        },
        "id": "EuyYp7FMLop_",
        "outputId": "2b56391a-69c8-4459-ea96-10f688a8b8f9"
      },
      "execution_count": null,
      "outputs": [
        {
          "output_type": "stream",
          "name": "stdout",
          "text": [
            "tf.Tensor(1.25, shape=(), dtype=float32)\n",
            "1.25\n",
            "tf.Tensor(1, shape=(), dtype=int32)\n",
            "1\n"
          ]
        }
      ]
    },
    {
      "cell_type": "code",
      "source": [
        "a=tf.constant([[1.,2.,3.],[3.,4.,5]])\n",
        "b=tf.transpose(a)\n",
        "print(b)\n",
        "print(b.numpy())"
      ],
      "metadata": {
        "colab": {
          "base_uri": "https://localhost:8080/"
        },
        "id": "Nx5dje0eMEmP",
        "outputId": "21e324dc-8a08-4703-cf76-2a3af9345d0f"
      },
      "execution_count": null,
      "outputs": [
        {
          "output_type": "stream",
          "name": "stdout",
          "text": [
            "tf.Tensor(\n",
            "[[1. 3.]\n",
            " [2. 4.]\n",
            " [3. 5.]], shape=(3, 2), dtype=float32)\n",
            "[[1. 3.]\n",
            " [2. 4.]\n",
            " [3. 5.]]\n"
          ]
        }
      ]
    },
    {
      "cell_type": "code",
      "source": [
        "b=tf.reduce_sum(a)\n",
        "print(b)\n",
        "print(b.numpy())"
      ],
      "metadata": {
        "colab": {
          "base_uri": "https://localhost:8080/"
        },
        "id": "MLUa7pRgMTed",
        "outputId": "558af1d4-2b4d-4ea7-85a5-631c72052fb9"
      },
      "execution_count": null,
      "outputs": [
        {
          "output_type": "stream",
          "name": "stdout",
          "text": [
            "tf.Tensor(18.0, shape=(), dtype=float32)\n",
            "18.0\n"
          ]
        }
      ]
    },
    {
      "cell_type": "code",
      "source": [
        "b=tf.concat([a,a,a],axis=0)\n",
        "print(b.numpy())"
      ],
      "metadata": {
        "colab": {
          "base_uri": "https://localhost:8080/"
        },
        "id": "F183wGQaMYPY",
        "outputId": "763246c7-dc36-4529-cc6b-7d5cb12638e4"
      },
      "execution_count": null,
      "outputs": [
        {
          "output_type": "stream",
          "name": "stdout",
          "text": [
            "[[1. 2. 3.]\n",
            " [3. 4. 5.]\n",
            " [1. 2. 3.]\n",
            " [3. 4. 5.]\n",
            " [1. 2. 3.]\n",
            " [3. 4. 5.]]\n"
          ]
        }
      ]
    },
    {
      "cell_type": "code",
      "source": [
        "x=tf.constant([[20,30,40,60,70]])\n",
        "logits=tf.constant([20,30,40,60,70],dtype=tf.float32)\n",
        "softmax_probs=tf.nn.softmax(logits,axis=-1)\n",
        "print(softmax_probs)\n"
      ],
      "metadata": {
        "colab": {
          "base_uri": "https://localhost:8080/"
        },
        "id": "eSaa1jSkMyAO",
        "outputId": "66a8f09e-6465-437a-bbab-726abee95507"
      },
      "execution_count": null,
      "outputs": [
        {
          "output_type": "stream",
          "name": "stdout",
          "text": [
            "tf.Tensor([1.9286623e-22 4.2481610e-18 9.3571980e-14 4.5397868e-05 9.9995458e-01], shape=(5,), dtype=float32)\n"
          ]
        }
      ]
    }
  ]
}