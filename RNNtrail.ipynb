{
  "nbformat": 4,
  "nbformat_minor": 0,
  "metadata": {
    "colab": {
      "provenance": []
    },
    "kernelspec": {
      "name": "python3",
      "display_name": "Python 3"
    },
    "language_info": {
      "name": "python"
    }
  },
  "cells": [
    {
      "cell_type": "code",
      "execution_count": null,
      "metadata": {
        "id": "CaTIdV2EQRB0",
        "colab": {
          "base_uri": "https://localhost:8080/"
        },
        "outputId": "d00386d0-66cf-4631-e381-14e9d2f1eaba"
      },
      "outputs": [
        {
          "output_type": "stream",
          "name": "stdout",
          "text": [
            "Epoch 1/50\n",
            "1/1 - 2s - loss: 2.5443 - accuracy: 0.1000 - 2s/epoch - 2s/step\n",
            "Epoch 2/50\n",
            "1/1 - 0s - loss: 2.4481 - accuracy: 0.2000 - 7ms/epoch - 7ms/step\n",
            "Epoch 3/50\n",
            "1/1 - 0s - loss: 2.3598 - accuracy: 0.4000 - 6ms/epoch - 6ms/step\n",
            "Epoch 4/50\n",
            "1/1 - 0s - loss: 2.2751 - accuracy: 0.4000 - 6ms/epoch - 6ms/step\n",
            "Epoch 5/50\n",
            "1/1 - 0s - loss: 2.1917 - accuracy: 0.4000 - 11ms/epoch - 11ms/step\n",
            "Epoch 6/50\n",
            "1/1 - 0s - loss: 2.1087 - accuracy: 0.4000 - 8ms/epoch - 8ms/step\n",
            "Epoch 7/50\n",
            "1/1 - 0s - loss: 2.0260 - accuracy: 0.4000 - 7ms/epoch - 7ms/step\n",
            "Epoch 8/50\n",
            "1/1 - 0s - loss: 1.9440 - accuracy: 0.4000 - 6ms/epoch - 6ms/step\n",
            "Epoch 9/50\n",
            "1/1 - 0s - loss: 1.8629 - accuracy: 0.4000 - 6ms/epoch - 6ms/step\n",
            "Epoch 10/50\n",
            "1/1 - 0s - loss: 1.7821 - accuracy: 0.4000 - 6ms/epoch - 6ms/step\n",
            "Epoch 11/50\n",
            "1/1 - 0s - loss: 1.7014 - accuracy: 0.4000 - 6ms/epoch - 6ms/step\n",
            "Epoch 12/50\n",
            "1/1 - 0s - loss: 1.6222 - accuracy: 0.4000 - 6ms/epoch - 6ms/step\n",
            "Epoch 13/50\n",
            "1/1 - 0s - loss: 1.5471 - accuracy: 0.4000 - 6ms/epoch - 6ms/step\n",
            "Epoch 14/50\n",
            "1/1 - 0s - loss: 1.4791 - accuracy: 0.5000 - 6ms/epoch - 6ms/step\n",
            "Epoch 15/50\n",
            "1/1 - 0s - loss: 1.4193 - accuracy: 0.6000 - 6ms/epoch - 6ms/step\n",
            "Epoch 16/50\n",
            "1/1 - 0s - loss: 1.3661 - accuracy: 0.6000 - 10ms/epoch - 10ms/step\n",
            "Epoch 17/50\n",
            "1/1 - 0s - loss: 1.3164 - accuracy: 0.6000 - 8ms/epoch - 8ms/step\n",
            "Epoch 18/50\n",
            "1/1 - 0s - loss: 1.2684 - accuracy: 0.6000 - 8ms/epoch - 8ms/step\n",
            "Epoch 19/50\n",
            "1/1 - 0s - loss: 1.2219 - accuracy: 0.7000 - 8ms/epoch - 8ms/step\n",
            "Epoch 20/50\n",
            "1/1 - 0s - loss: 1.1774 - accuracy: 0.7000 - 8ms/epoch - 8ms/step\n",
            "Epoch 21/50\n",
            "1/1 - 0s - loss: 1.1344 - accuracy: 0.7000 - 6ms/epoch - 6ms/step\n",
            "Epoch 22/50\n",
            "1/1 - 0s - loss: 1.0917 - accuracy: 0.7000 - 6ms/epoch - 6ms/step\n",
            "Epoch 23/50\n",
            "1/1 - 0s - loss: 1.0482 - accuracy: 0.7000 - 6ms/epoch - 6ms/step\n",
            "Epoch 24/50\n",
            "1/1 - 0s - loss: 1.0034 - accuracy: 0.7000 - 6ms/epoch - 6ms/step\n",
            "Epoch 25/50\n",
            "1/1 - 0s - loss: 0.9583 - accuracy: 0.7000 - 7ms/epoch - 7ms/step\n",
            "Epoch 26/50\n",
            "1/1 - 0s - loss: 0.9146 - accuracy: 0.7000 - 5ms/epoch - 5ms/step\n",
            "Epoch 27/50\n",
            "1/1 - 0s - loss: 0.8731 - accuracy: 0.7000 - 5ms/epoch - 5ms/step\n",
            "Epoch 28/50\n",
            "1/1 - 0s - loss: 0.8335 - accuracy: 0.8000 - 5ms/epoch - 5ms/step\n",
            "Epoch 29/50\n",
            "1/1 - 0s - loss: 0.7956 - accuracy: 0.8000 - 8ms/epoch - 8ms/step\n",
            "Epoch 30/50\n",
            "1/1 - 0s - loss: 0.7602 - accuracy: 0.8000 - 6ms/epoch - 6ms/step\n",
            "Epoch 31/50\n",
            "1/1 - 0s - loss: 0.7281 - accuracy: 0.8000 - 6ms/epoch - 6ms/step\n",
            "Epoch 32/50\n",
            "1/1 - 0s - loss: 0.6995 - accuracy: 0.8000 - 6ms/epoch - 6ms/step\n",
            "Epoch 33/50\n",
            "1/1 - 0s - loss: 0.6735 - accuracy: 0.8000 - 20ms/epoch - 20ms/step\n",
            "Epoch 34/50\n",
            "1/1 - 0s - loss: 0.6493 - accuracy: 0.8000 - 9ms/epoch - 9ms/step\n",
            "Epoch 35/50\n",
            "1/1 - 0s - loss: 0.6264 - accuracy: 0.8000 - 9ms/epoch - 9ms/step\n",
            "Epoch 36/50\n",
            "1/1 - 0s - loss: 0.6047 - accuracy: 0.8000 - 10ms/epoch - 10ms/step\n",
            "Epoch 37/50\n",
            "1/1 - 0s - loss: 0.5842 - accuracy: 0.8000 - 10ms/epoch - 10ms/step\n",
            "Epoch 38/50\n",
            "1/1 - 0s - loss: 0.5647 - accuracy: 0.8000 - 8ms/epoch - 8ms/step\n",
            "Epoch 39/50\n",
            "1/1 - 0s - loss: 0.5461 - accuracy: 0.8000 - 8ms/epoch - 8ms/step\n",
            "Epoch 40/50\n",
            "1/1 - 0s - loss: 0.5286 - accuracy: 0.8000 - 8ms/epoch - 8ms/step\n",
            "Epoch 41/50\n",
            "1/1 - 0s - loss: 0.5121 - accuracy: 0.8000 - 8ms/epoch - 8ms/step\n",
            "Epoch 42/50\n",
            "1/1 - 0s - loss: 0.4968 - accuracy: 0.8000 - 8ms/epoch - 8ms/step\n",
            "Epoch 43/50\n",
            "1/1 - 0s - loss: 0.4823 - accuracy: 0.8000 - 7ms/epoch - 7ms/step\n",
            "Epoch 44/50\n",
            "1/1 - 0s - loss: 0.4687 - accuracy: 0.8000 - 8ms/epoch - 8ms/step\n",
            "Epoch 45/50\n",
            "1/1 - 0s - loss: 0.4560 - accuracy: 0.8000 - 7ms/epoch - 7ms/step\n",
            "Epoch 46/50\n",
            "1/1 - 0s - loss: 0.4441 - accuracy: 0.8000 - 9ms/epoch - 9ms/step\n",
            "Epoch 47/50\n",
            "1/1 - 0s - loss: 0.4332 - accuracy: 0.8000 - 8ms/epoch - 8ms/step\n",
            "Epoch 48/50\n",
            "1/1 - 0s - loss: 0.4231 - accuracy: 0.8000 - 8ms/epoch - 8ms/step\n",
            "Epoch 49/50\n",
            "1/1 - 0s - loss: 0.4137 - accuracy: 0.8000 - 7ms/epoch - 7ms/step\n",
            "Epoch 50/50\n",
            "1/1 - 0s - loss: 0.4053 - accuracy: 0.8000 - 7ms/epoch - 7ms/step\n"
          ]
        },
        {
          "output_type": "execute_result",
          "data": {
            "text/plain": [
              "<keras.src.callbacks.History at 0x7bc0f84f9330>"
            ]
          },
          "metadata": {},
          "execution_count": 1
        }
      ],
      "source": [
        "import numpy as np\n",
        "from keras.models import Sequential\n",
        "from keras.layers import SimpleRNN, Dense, Embedding\n",
        "from keras.preprocessing.text import Tokenizer\n",
        "from keras.preprocessing.sequence import pad_sequences\n",
        "from keras.utils import to_categorical\n",
        "\n",
        "# Generating some example sequential data\n",
        "sentences = ['I love learning','I love python','I hate school',\n",
        "             'Recurrent Neural Networks are powerful']\n",
        "# Tokenizing the words\n",
        "tokenizer = Tokenizer()\n",
        "tokenizer.fit_on_texts(sentences)\n",
        "total_words = len(tokenizer.word_index) + 1\n",
        "\n",
        "# Creating input sequences and their corresponding next words\n",
        "input_sequences = []\n",
        "for sentence in sentences:\n",
        "    tokenized_sentence = tokenizer.texts_to_sequences([sentence])[0]\n",
        "    for i in range(1, len(tokenized_sentence)):\n",
        "        n_gram_sequence = tokenized_sentence[:i+1]\n",
        "        input_sequences.append(n_gram_sequence)\n",
        "\n",
        "# Padding sequences for consistent input size\n",
        "max_sequence_length = max([len(seq) for seq in input_sequences])\n",
        "input_sequences = pad_sequences(input_sequences, maxlen=max_sequence_length, padding='pre')\n",
        "\n",
        "# Creating input and output data\n",
        "X, y = input_sequences[:, :-1], input_sequences[:, -1]\n",
        "y = to_categorical(y, num_classes=total_words)\n",
        "\n",
        "# Building a simple RNN model\n",
        "model = Sequential()\n",
        "model.add(Embedding(input_dim=total_words, output_dim=50, input_length=max_sequence_length-1))\n",
        "model.add(SimpleRNN(100, return_sequences=True))\n",
        "model.add(SimpleRNN(100))\n",
        "model.add(Dense(total_words, activation='softmax'))\n",
        "\n",
        "# Compiling the model\n",
        "model.compile(optimizer='adam', loss='categorical_crossentropy', metrics=['accuracy'])\n",
        "\n",
        "# Training the model\n",
        "model.fit(X, y, epochs=50, verbose=2)\n",
        "\n",
        "\n"
      ]
    },
    {
      "cell_type": "code",
      "source": [
        "# Generating text using the trained model\n",
        "seed_text = input(\"Enter the starting word: \")\n",
        "next_words = int(input(\"Enter how many words to predict: \"))\n",
        "\n",
        "for _ in range(next_words):\n",
        "    tokenized_seed = tokenizer.texts_to_sequences([seed_text])[0]\n",
        "    tokenized_seed = pad_sequences([tokenized_seed], maxlen=max_sequence_length-1, padding='pre')\n",
        "    predicted_word_index = np.argmax(model.predict(tokenized_seed), axis=-1)\n",
        "    predicted_word = tokenizer.index_word[predicted_word_index[0]]\n",
        "    seed_text += \" \" + predicted_word\n",
        "\n",
        "print(seed_text)"
      ],
      "metadata": {
        "colab": {
          "base_uri": "https://localhost:8080/"
        },
        "id": "butU-IQxRnoA",
        "outputId": "0654c04d-78de-4490-e0b1-f073c84a382b"
      },
      "execution_count": null,
      "outputs": [
        {
          "output_type": "stream",
          "name": "stdout",
          "text": [
            "Enter the starting word: i love\n",
            "Enter how many words to predict: 4\n",
            "1/1 [==============================] - 0s 15ms/step\n",
            "1/1 [==============================] - 0s 15ms/step\n",
            "1/1 [==============================] - 0s 14ms/step\n",
            "1/1 [==============================] - 0s 14ms/step\n",
            "i love learning are powerful powerful\n"
          ]
        }
      ]
    }
  ]
}