{
  "nbformat": 4,
  "nbformat_minor": 0,
  "metadata": {
    "colab": {
      "provenance": []
    },
    "kernelspec": {
      "name": "python3",
      "display_name": "Python 3"
    },
    "language_info": {
      "name": "python"
    }
  },
  "cells": [
    {
      "cell_type": "code",
      "source": [
        "import pandas as pd\n",
        "import numpy as np\n",
        "import matplotlib.pyplot as plt\n",
        "from sklearn.linear_model import LinearRegression\n",
        "import seaborn as sns\n",
        "data_xl=pd.read_excel(\"/content/xl.xlsx\")\n",
        "data_xl2=pd.read_excel(\"/content/xl2.xlsx\")\n",
        "data_xl.to_csv(\"xl.csv\")\n",
        "data_xl2.to_csv(\"xl2.csv\")\n",
        "\n"
      ],
      "metadata": {
        "id": "BAydlmogZvD_"
      },
      "execution_count": null,
      "outputs": []
    },
    {
      "cell_type": "code",
      "source": [
        "import pandas as pd\n",
        "import numpy as np\n",
        "import matplotlib.pyplot as plt\n",
        "from sklearn.model_selection import train_test_split\n",
        "from sklearn.linear_model import LinearRegression\n",
        "from sklearn.metrics import mean_squared_error\n",
        "\n",
        "# Load the CSV dataset\n",
        "data = pd.read_csv('/content/xl.csv')\n",
        "\n",
        "\n",
        "# Display the first few rows of the dataset\n",
        "print(data.head())\n",
        "\n",
        "# Split the data into features (X) and target variable (y)\n",
        "X = data[['Player_Id']]\n",
        "y = data['Is_Umpire']\n",
        "\n",
        "# Split the data into training and test sets\n",
        "X_train, X_test, y_train, y_test = train_test_split(X, y, test_size=0.2, random_state=42)\n",
        "\n",
        "# Create and train the linear regression model\n",
        "model = LinearRegression()\n",
        "model.fit(X_train, y_train)\n",
        "\n",
        "# Make predictions on the test data\n",
        "y_pred = model.predict(X_test)\n",
        "\n",
        "# Calculate mean squared error\n",
        "mse = mean_squared_error(y_test, y_pred)\n",
        "print(\"Mean Squared Error:\", mse)\n",
        "# Plot the data and regression line\n",
        "plt.scatter(X_test, y_test, color='blue')\n",
        "plt.plot(X_test, y_pred, color='red', linewidth=2)\n",
        "plt.xlabel('Feature')\n",
        "plt.ylabel('Target')\n",
        "plt.title('Linear Regression')\n",
        "plt.show()"
      ],
      "metadata": {
        "colab": {
          "base_uri": "https://localhost:8080/",
          "height": 715
        },
        "id": "3e7GIBAhBQJG",
        "outputId": "b3dad3e4-5e8d-4a83-8fa9-0ef7388fa52d"
      },
      "execution_count": null,
      "outputs": [
        {
          "output_type": "stream",
          "name": "stdout",
          "text": [
            "   Unnamed: 0  Player_Id      Player_Name         DOB Batting_Hand  \\\n",
            "0           0          1       SC Ganguly  1972-07-08    Left_Hand   \n",
            "1           1          2      BB McCullum  1981-09-27   Right_Hand   \n",
            "2           2          3       RT Ponting  1974-12-19   Right_Hand   \n",
            "3           3          4        DJ Hussey  1977-07-15   Right_Hand   \n",
            "4           4          5  Mohammad Hafeez  1980-10-17   Right_Hand   \n",
            "\n",
            "        Bowling_Skill      Country  Is_Umpire  \n",
            "0    Right-arm medium        India          1  \n",
            "1    Right-arm medium  New Zealand          2  \n",
            "2    Right-arm medium    Australia          1  \n",
            "3  Right-arm offbreak    Australia          2  \n",
            "4  Right-arm offbreak     Pakistan          1  \n",
            "Mean Squared Error: 0.510204081632653\n"
          ]
        },
        {
          "output_type": "display_data",
          "data": {
            "text/plain": [
              "<Figure size 640x480 with 1 Axes>"
            ],
            "image/png": "[encoded data removed]"
          },
          "metadata": {}
        }
      ]
    }
  ]
}